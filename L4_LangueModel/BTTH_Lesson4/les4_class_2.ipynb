{
 "cells": [
  {
   "cell_type": "markdown",
   "metadata": {},
   "source": [
    " \n",
    "### Mô hình ngôn ngữ và ứng dụng trong việc sinh văn bản\n",
    "\n",
    "#### Mục tiêu: xây dựng chương trình sinh văn bản tiếng Việt đơn giản \n",
    "\n",
    "Bài 2:\n",
    "\n",
    "a)\tCải tiến mô hình bằng cách sử dụng smoothing là phương pháp interpolation theo “Stupid backoff” (Brants et al. 2007)\n",
    "\n",
    "b)\tSo sánh với kết quả bài 1\n",
    "\n",
    "c)\tDùng mô hình vừa xây dựng để sinh các từ tiếp theo với một chuỗi từ cho trước.\n",
    "\n",
    "\n"
   ]
  },
  {
   "cell_type": "markdown",
   "metadata": {},
   "source": [
    "#### Đọc input"
   ]
  },
  {
   "cell_type": "code",
   "execution_count": null,
   "metadata": {},
   "outputs": [],
   "source": [
    "# đọc file\n",
    "filename='NLP.txt'\n",
    "lines=[]\n",
    "count=0\n",
    "#Max=-1\n",
    "Max=10000\n",
    "\n",
    "#ENTER YOU CODE HERE\n",
    "#-> Đọc dữ liệu trong filename theo từng line (mỗi line là 1 sentence) vào lines[], dùng biến count đếm số lượng, nếu vượt quá Max thì không đọc nữa.\n",
    ".....\n",
    "#END YOUR CODE\n",
    "\n",
    "print(len(lines))\n",
    "print(lines[:5])          "
   ]
  },
  {
   "cell_type": "markdown",
   "metadata": {},
   "source": [
    "#### Thực hiện tokenize tập input\n",
    "Thêm '\\<s\\>' vào trước mỗi câu, thêm '\\</s\\>' vào sau mỗi câu. "
   ]
  },
  {
   "cell_type": "code",
   "execution_count": null,
   "metadata": {},
   "outputs": [],
   "source": [
    "# tokenize sentences \n",
    "import underthesea\n",
    "sentences=[]\n",
    "all_tokens_count=0\n",
    "\n",
    "#ENTER YOU CODE HERE\n",
    "#-> thực hiện tokenize tập input đưa vào sentences, lower trước khi tokenize\n",
    "# Đếm số lượng token vào biến all_tokens_count\n",
    "# Mỗi sentence thêm ký tự '<s>' vào đầu, '</s>' vào cuối\n",
    ".....\n",
    "#END YOUR CODE\n",
    "\n",
    "    \n",
    "print('all_tokens_count=',all_tokens_count)\n",
    "print(len(sentences))\n",
    "print(sentences[:5])"
   ]
  },
  {
   "cell_type": "markdown",
   "metadata": {},
   "source": [
    "#### Counting 1-gram"
   ]
  },
  {
   "cell_type": "code",
   "execution_count": null,
   "metadata": {},
   "outputs": [],
   "source": [
    "# counting 1-gram \n",
    "from collections import Counter\n",
    "counter_unigram=Counter()\n",
    "\n",
    "#ENTER YOU CODE HERE\n",
    "#-> Dùng counter_unigram để đếm token 1-gram cho tập sentences\n",
    ".....\n",
    "#END YOUR CODE\n",
    "\n",
    "V=len(counter_unigram)\n",
    "print('V=',V)\n",
    "n=0\n",
    "for gram in counter_unigram:\n",
    "    n+=counter_unigram[gram]\n",
    "n=n-counter_unigram['<s>']-counter_unigram['</s>']\n",
    "print('n=',n)\n",
    "print(counter_unigram['hai'])\n",
    "print(counter_unigram['nước'])"
   ]
  },
  {
   "cell_type": "markdown",
   "metadata": {},
   "source": [
    "#### Counting 2-gram"
   ]
  },
  {
   "cell_type": "code",
   "execution_count": null,
   "metadata": {},
   "outputs": [],
   "source": [
    "from nltk import ngrams\n",
    "bi_grams=[]\n",
    "\n",
    "#ENTER YOU CODE HERE\n",
    "#-> Dùng ngrams để đếm token 2-gram cho tập sentences\n",
    ".....\n",
    "#END YOUR CODE\n",
    "\n",
    "print(len(bi_grams))\n",
    "\n",
    "for i in range(3):\n",
    "    print(bi_grams[i])\n",
    "\n",
    "counter_bigram = Counter(bi_grams)\n",
    "print('V=',len(counter_bigram))\n",
    "print(counter_bigram[('trỗi','dậy')])"
   ]
  },
  {
   "cell_type": "markdown",
   "metadata": {},
   "source": [
    "#### Counting 3-gram"
   ]
  },
  {
   "cell_type": "code",
   "execution_count": null,
   "metadata": {},
   "outputs": [],
   "source": [
    "tri_grams=[]\n",
    "\n",
    "#ENTER YOU CODE HERE\n",
    "#-> Dùng ngrams để đếm token 3-gram cho tập sentences\n",
    ".....\n",
    "#END YOUR CODE\n",
    "\n",
    "print(len(tri_grams))\n",
    "\n",
    "for i in range(3):\n",
    "    print(tri_grams[i])\n",
    "\n",
    "counter_trigram = Counter(tri_grams)\n",
    "print('V=',len(counter_trigram))\n",
    "print(counter_trigram[('bơm','vũ khí','cho')])"
   ]
  },
  {
   "cell_type": "markdown",
   "metadata": {},
   "source": [
    "#### Xây dựng dict từ 2-gram"
   ]
  },
  {
   "cell_type": "code",
   "execution_count": 12,
   "metadata": {},
   "outputs": [],
   "source": [
    "bi_dict={}\n",
    "set_bi_grams = set(bi_grams)\n",
    "for gram in set_bi_grams:\n",
    "    key=(gram[0])\n",
    "    if key in bi_dict.keys():\n",
    "        bi_dict[key].append(gram[1])\n",
    "    else:\n",
    "        bi_dict[key]=[gram[1]]"
   ]
  },
  {
   "cell_type": "code",
   "execution_count": null,
   "metadata": {},
   "outputs": [],
   "source": [
    "print(len(bi_dict))\n",
    "print(list(bi_dict.keys())[:45])\n",
    "print('hai: ?')\n",
    "print(bi_dict[('hai')])"
   ]
  },
  {
   "cell_type": "markdown",
   "metadata": {},
   "source": [
    "#### Dùng mô hình vừa xây dựng để sinh các từ tiếp theo với một chuỗi từ cho trước"
   ]
  },
  {
   "cell_type": "code",
   "execution_count": null,
   "metadata": {},
   "outputs": [],
   "source": [
    "# dự đoán từ tiếp theo\n",
    "seq='lầu năm góc tăng'\n",
    "tokens=underthesea.word_tokenize(seq.lower())\n",
    "tokens=['<s>']+tokens\n",
    "print(tokens)\n",
    "i=len(tokens)-1\n",
    "key=(tokens[i-1],tokens[i])\n",
    "#print(tri_dict[key])\n",
    "dict_nextword={}\n",
    "\n",
    "\n",
    "#ENTER YOU CODE HERE\n",
    "#-> viết đoạn lệnh để dự đoán từ tiếp theo vào dict_nextword, dùng counter_trigram\n",
    "\n",
    "#END YOUR CODE\n",
    "    \n",
    "sorted_dict=sorted(dict_nextword,key=dict_nextword.__getitem__,reverse=True)\n",
    "\n",
    "#print(dict_nextword)\n",
    "print(sorted_dict[0])\n",
    "print(sorted_dict)"
   ]
  },
  {
   "cell_type": "markdown",
   "metadata": {},
   "source": [
    "#### Dự đoán chuỗi K từ tiếp theo"
   ]
  },
  {
   "cell_type": "code",
   "execution_count": null,
   "metadata": {},
   "outputs": [],
   "source": [
    "# dự đoán chuỗi K từ tiếp theo\n",
    "seq='here are the'\n",
    "tokens=underthesea.word_tokenize(seq.lower())\n",
    "tokens=['<s>']+tokens\n",
    "print(tokens)\n",
    "N=10\n",
    "count=0\n",
    "while count<N:\n",
    "    count+=1\n",
    "    i=len(tokens)-1\n",
    "    key=(tokens[i-1],tokens[i])\n",
    "    #print(tri_dict[key])\n",
    "    dict_nextword={}\n",
    "    if not (key in bi_dict.keys()):\n",
    "        break\n",
    "    \n",
    "    #ENTER YOU CODE HERE\n",
    "    #-> viết đoạn lệnh để dự đoán chuỗi K (K=N) từ tiếp theo vào dict_nextword, dùng counter_bigram\n",
    "\n",
    "    #END YOUR CODE\n",
    "    \n",
    "    sorted_dict=sorted(dict_nextword,key=dict_nextword.__getitem__,reverse=True)\n",
    "    \n",
    "    #print(dict_nextword)\n",
    "    #print(sorted_dict[0])\n",
    "    tokens.append(sorted_dict[0])\n",
    "    seq+= ' '+sorted_dict[0]\n",
    "\n",
    "print(seq)"
   ]
  },
  {
   "cell_type": "markdown",
   "metadata": {},
   "source": []
  }
 ],
 "metadata": {
  "kernelspec": {
   "display_name": "Python 3.7.6 64-bit",
   "language": "python",
   "name": "python3"
  },
  "language_info": {
   "codemirror_mode": {
    "name": "ipython",
    "version": 3
   },
   "file_extension": ".py",
   "mimetype": "text/x-python",
   "name": "python",
   "nbconvert_exporter": "python",
   "pygments_lexer": "ipython3",
   "version": "3.7.6"
  },
  "vscode": {
   "interpreter": {
    "hash": "d65b2b009303c0af65e9c9d4be8f26c2c45182fd085ae18c2ed3b904a6fa84e8"
   }
  }
 },
 "nbformat": 4,
 "nbformat_minor": 2
}
